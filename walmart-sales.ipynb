{
 "cells": [
  {
   "cell_type": "code",
   "execution_count": 1,
   "id": "02c00894",
   "metadata": {
    "_cell_guid": "b1076dfc-b9ad-4769-8c92-a6c4dae69d19",
    "_uuid": "8f2839f25d086af736a60e9eeb907d3b93b6e0e5",
    "execution": {
     "iopub.execute_input": "2023-08-13T21:31:16.655460Z",
     "iopub.status.busy": "2023-08-13T21:31:16.654917Z",
     "iopub.status.idle": "2023-08-13T21:31:18.871937Z",
     "shell.execute_reply": "2023-08-13T21:31:18.870016Z"
    },
    "papermill": {
     "duration": 2.227852,
     "end_time": "2023-08-13T21:31:18.875059",
     "exception": false,
     "start_time": "2023-08-13T21:31:16.647207",
     "status": "completed"
    },
    "tags": []
   },
   "outputs": [
    {
     "name": "stderr",
     "output_type": "stream",
     "text": [
      "/opt/conda/lib/python3.10/site-packages/scipy/__init__.py:146: UserWarning: A NumPy version >=1.16.5 and <1.23.0 is required for this version of SciPy (detected version 1.23.5\n",
      "  warnings.warn(f\"A NumPy version >={np_minversion} and <{np_maxversion}\"\n"
     ]
    }
   ],
   "source": [
    "import pandas as pd\n",
    "import numpy as np\n",
    "from matplotlib import pyplot as plt\n",
    "from matplotlib.gridspec import GridSpec\n",
    "import seaborn as sns\n",
    "from scipy import stats\n",
    "import joblib\n",
    "from scipy.special import boxcox1p\n",
    "\n",
    "from sklearn.model_selection import train_test_split\n",
    "from sklearn.ensemble import RandomForestRegressor\n",
    "\n",
    "import warnings\n",
    "warnings.filterwarnings(\"ignore\") # ignoring annoying warnings\n",
    "\n",
    "from pandasql import sqldf\n",
    "pysqldf = lambda q: sqldf(q, globals())"
   ]
  },
  {
   "cell_type": "code",
   "execution_count": 2,
   "id": "8b788623",
   "metadata": {
    "execution": {
     "iopub.execute_input": "2023-08-13T21:31:18.888080Z",
     "iopub.status.busy": "2023-08-13T21:31:18.887669Z",
     "iopub.status.idle": "2023-08-13T21:31:19.342272Z",
     "shell.execute_reply": "2023-08-13T21:31:19.340426Z"
    },
    "papermill": {
     "duration": 0.464364,
     "end_time": "2023-08-13T21:31:19.345200",
     "exception": false,
     "start_time": "2023-08-13T21:31:18.880836",
     "status": "completed"
    },
    "tags": []
   },
   "outputs": [],
   "source": [
    "features = pd.read_csv('../input/walmart-recruiting-store-sales-forecasting/features.csv.zip')\n",
    "train = pd.read_csv('../input/walmart-recruiting-store-sales-forecasting/train.csv.zip')\n",
    "stores = pd.read_csv('../input/walmart-recruiting-store-sales-forecasting/stores.csv')\n",
    "test = pd.read_csv('../input/walmart-recruiting-store-sales-forecasting/test.csv.zip')\n",
    "sample_submission = pd.read_csv('../input/walmart-recruiting-store-sales-forecasting/sampleSubmission.csv.zip')"
   ]
  },
  {
   "cell_type": "code",
   "execution_count": 3,
   "id": "419692bc",
   "metadata": {
    "execution": {
     "iopub.execute_input": "2023-08-13T21:31:19.358370Z",
     "iopub.status.busy": "2023-08-13T21:31:19.357946Z",
     "iopub.status.idle": "2023-08-13T21:31:19.385711Z",
     "shell.execute_reply": "2023-08-13T21:31:19.384616Z"
    },
    "papermill": {
     "duration": 0.037271,
     "end_time": "2023-08-13T21:31:19.388070",
     "exception": false,
     "start_time": "2023-08-13T21:31:19.350799",
     "status": "completed"
    },
    "tags": []
   },
   "outputs": [],
   "source": [
    "feat_sto = features.merge(stores, how='inner', on='Store')"
   ]
  },
  {
   "cell_type": "code",
   "execution_count": 4,
   "id": "e2f6600f",
   "metadata": {
    "execution": {
     "iopub.execute_input": "2023-08-13T21:31:19.401095Z",
     "iopub.status.busy": "2023-08-13T21:31:19.400638Z",
     "iopub.status.idle": "2023-08-13T21:31:19.479201Z",
     "shell.execute_reply": "2023-08-13T21:31:19.478037Z"
    },
    "papermill": {
     "duration": 0.088203,
     "end_time": "2023-08-13T21:31:19.481807",
     "exception": false,
     "start_time": "2023-08-13T21:31:19.393604",
     "status": "completed"
    },
    "tags": []
   },
   "outputs": [],
   "source": [
    "feat_sto.Date = pd.to_datetime(feat_sto.Date)\n",
    "train.Date = pd.to_datetime(train.Date)\n",
    "test.Date = pd.to_datetime(test.Date)"
   ]
  },
  {
   "cell_type": "code",
   "execution_count": 5,
   "id": "2057fcf9",
   "metadata": {
    "execution": {
     "iopub.execute_input": "2023-08-13T21:31:19.495377Z",
     "iopub.status.busy": "2023-08-13T21:31:19.494948Z",
     "iopub.status.idle": "2023-08-13T21:31:19.510022Z",
     "shell.execute_reply": "2023-08-13T21:31:19.508156Z"
    },
    "papermill": {
     "duration": 0.025782,
     "end_time": "2023-08-13T21:31:19.512840",
     "exception": false,
     "start_time": "2023-08-13T21:31:19.487058",
     "status": "completed"
    },
    "tags": []
   },
   "outputs": [],
   "source": [
    "feat_sto['Week'] = feat_sto.Date.dt.week \n",
    "feat_sto['Year'] = feat_sto.Date.dt.year"
   ]
  },
  {
   "cell_type": "code",
   "execution_count": 6,
   "id": "5dcf1066",
   "metadata": {
    "execution": {
     "iopub.execute_input": "2023-08-13T21:31:19.525467Z",
     "iopub.status.busy": "2023-08-13T21:31:19.525073Z",
     "iopub.status.idle": "2023-08-13T21:31:19.832341Z",
     "shell.execute_reply": "2023-08-13T21:31:19.830390Z"
    },
    "papermill": {
     "duration": 0.317929,
     "end_time": "2023-08-13T21:31:19.836264",
     "exception": false,
     "start_time": "2023-08-13T21:31:19.518335",
     "status": "completed"
    },
    "tags": []
   },
   "outputs": [],
   "source": [
    "train_detail = train.merge(feat_sto, \n",
    "                           how='inner',\n",
    "                           on=['Store','Date','IsHoliday']).sort_values(by=['Store',\n",
    "                                                                            'Dept',\n",
    "                                                                            'Date']).reset_index(drop=True)"
   ]
  },
  {
   "cell_type": "code",
   "execution_count": 7,
   "id": "287fca75",
   "metadata": {
    "execution": {
     "iopub.execute_input": "2023-08-13T21:31:19.849565Z",
     "iopub.status.busy": "2023-08-13T21:31:19.849130Z",
     "iopub.status.idle": "2023-08-13T21:31:19.915428Z",
     "shell.execute_reply": "2023-08-13T21:31:19.914269Z"
    },
    "papermill": {
     "duration": 0.075782,
     "end_time": "2023-08-13T21:31:19.917875",
     "exception": false,
     "start_time": "2023-08-13T21:31:19.842093",
     "status": "completed"
    },
    "tags": []
   },
   "outputs": [],
   "source": [
    "test_detail = test.merge(feat_sto, \n",
    "                           how='inner',\n",
    "                           on=['Store','Date','IsHoliday']).sort_values(by=['Store',\n",
    "                                                                            'Dept',\n",
    "                                                                            'Date']).reset_index(drop=True)"
   ]
  },
  {
   "cell_type": "code",
   "execution_count": 8,
   "id": "800684a7",
   "metadata": {
    "execution": {
     "iopub.execute_input": "2023-08-13T21:31:19.929286Z",
     "iopub.status.busy": "2023-08-13T21:31:19.928863Z",
     "iopub.status.idle": "2023-08-13T21:31:19.940884Z",
     "shell.execute_reply": "2023-08-13T21:31:19.939968Z"
    },
    "papermill": {
     "duration": 0.01978,
     "end_time": "2023-08-13T21:31:19.942616",
     "exception": false,
     "start_time": "2023-08-13T21:31:19.922836",
     "status": "completed"
    },
    "tags": []
   },
   "outputs": [],
   "source": [
    "train_detail.loc[(train_detail.Year==2010) & (train_detail.Week==13), 'IsHoliday'] = True\n",
    "train_detail.loc[(train_detail.Year==2011) & (train_detail.Week==16), 'IsHoliday'] = True\n",
    "train_detail.loc[(train_detail.Year==2012) & (train_detail.Week==14), 'IsHoliday'] = True\n",
    "test_detail.loc[(test_detail.Year==2013) & (test_detail.Week==13), 'IsHoliday'] = True"
   ]
  },
  {
   "cell_type": "code",
   "execution_count": 9,
   "id": "4591a7f9",
   "metadata": {
    "execution": {
     "iopub.execute_input": "2023-08-13T21:31:19.953698Z",
     "iopub.status.busy": "2023-08-13T21:31:19.953312Z",
     "iopub.status.idle": "2023-08-13T21:31:19.978804Z",
     "shell.execute_reply": "2023-08-13T21:31:19.977478Z"
    },
    "papermill": {
     "duration": 0.034095,
     "end_time": "2023-08-13T21:31:19.981462",
     "exception": false,
     "start_time": "2023-08-13T21:31:19.947367",
     "status": "completed"
    },
    "tags": []
   },
   "outputs": [],
   "source": [
    "train_detail = train_detail.drop(columns=['Fuel_Price','MarkDown1','MarkDown2','MarkDown3','MarkDown4','MarkDown5'])\n",
    "test_detail = test_detail.drop(columns=['Fuel_Price','MarkDown1','MarkDown2','MarkDown3','MarkDown4','MarkDown5'])"
   ]
  },
  {
   "cell_type": "code",
   "execution_count": 10,
   "id": "99741df8",
   "metadata": {
    "execution": {
     "iopub.execute_input": "2023-08-13T21:31:19.993465Z",
     "iopub.status.busy": "2023-08-13T21:31:19.993098Z",
     "iopub.status.idle": "2023-08-13T21:31:20.172543Z",
     "shell.execute_reply": "2023-08-13T21:31:20.171173Z"
    },
    "papermill": {
     "duration": 0.188812,
     "end_time": "2023-08-13T21:31:20.175667",
     "exception": false,
     "start_time": "2023-08-13T21:31:19.986855",
     "status": "completed"
    },
    "tags": []
   },
   "outputs": [],
   "source": [
    "train_detail.Type = train_detail.Type.apply(lambda x: 3 if x == 'A' else(2 if x == 'B' else 1))\n",
    "test_detail.Type = test_detail.Type.apply(lambda x: 3 if x == 'A' else(2 if x == 'B' else 1))"
   ]
  },
  {
   "cell_type": "code",
   "execution_count": 11,
   "id": "83b8957f",
   "metadata": {
    "execution": {
     "iopub.execute_input": "2023-08-13T21:31:20.189046Z",
     "iopub.status.busy": "2023-08-13T21:31:20.188633Z",
     "iopub.status.idle": "2023-08-13T21:31:20.205723Z",
     "shell.execute_reply": "2023-08-13T21:31:20.204268Z"
    },
    "papermill": {
     "duration": 0.026565,
     "end_time": "2023-08-13T21:31:20.208479",
     "exception": false,
     "start_time": "2023-08-13T21:31:20.181914",
     "status": "completed"
    },
    "tags": []
   },
   "outputs": [],
   "source": [
    "train_detail = train_detail.drop(columns=['Temperature'])\n",
    "test_detail = test_detail.drop(columns=['Temperature'])"
   ]
  },
  {
   "cell_type": "code",
   "execution_count": 12,
   "id": "f4e8c8f6",
   "metadata": {
    "execution": {
     "iopub.execute_input": "2023-08-13T21:31:20.221522Z",
     "iopub.status.busy": "2023-08-13T21:31:20.221135Z",
     "iopub.status.idle": "2023-08-13T21:31:20.236596Z",
     "shell.execute_reply": "2023-08-13T21:31:20.235460Z"
    },
    "papermill": {
     "duration": 0.02538,
     "end_time": "2023-08-13T21:31:20.239321",
     "exception": false,
     "start_time": "2023-08-13T21:31:20.213941",
     "status": "completed"
    },
    "tags": []
   },
   "outputs": [],
   "source": [
    "train_detail = train_detail.drop(columns=['CPI'])\n",
    "test_detail = test_detail.drop(columns=['CPI'])"
   ]
  },
  {
   "cell_type": "code",
   "execution_count": 13,
   "id": "0f05dd2d",
   "metadata": {
    "execution": {
     "iopub.execute_input": "2023-08-13T21:31:20.251329Z",
     "iopub.status.busy": "2023-08-13T21:31:20.250928Z",
     "iopub.status.idle": "2023-08-13T21:31:20.264830Z",
     "shell.execute_reply": "2023-08-13T21:31:20.263361Z"
    },
    "papermill": {
     "duration": 0.022774,
     "end_time": "2023-08-13T21:31:20.267253",
     "exception": false,
     "start_time": "2023-08-13T21:31:20.244479",
     "status": "completed"
    },
    "tags": []
   },
   "outputs": [],
   "source": [
    "train_detail = train_detail.drop(columns=['Unemployment'])\n",
    "test_detail = test_detail.drop(columns=['Unemployment'])"
   ]
  },
  {
   "cell_type": "code",
   "execution_count": 14,
   "id": "209b6b95",
   "metadata": {
    "execution": {
     "iopub.execute_input": "2023-08-13T21:31:20.279133Z",
     "iopub.status.busy": "2023-08-13T21:31:20.278759Z",
     "iopub.status.idle": "2023-08-13T21:31:20.285210Z",
     "shell.execute_reply": "2023-08-13T21:31:20.283466Z"
    },
    "papermill": {
     "duration": 0.015577,
     "end_time": "2023-08-13T21:31:20.287928",
     "exception": false,
     "start_time": "2023-08-13T21:31:20.272351",
     "status": "completed"
    },
    "tags": []
   },
   "outputs": [],
   "source": [
    "def WMAE(dataset, real, predicted):\n",
    "    weights = dataset.IsHoliday.apply(lambda x: 5 if x else 1)\n",
    "    return np.round(np.sum(weights*abs(real-predicted))/(np.sum(weights)), 2)"
   ]
  },
  {
   "cell_type": "code",
   "execution_count": 15,
   "id": "e1908c7e",
   "metadata": {
    "execution": {
     "iopub.execute_input": "2023-08-13T21:31:20.300709Z",
     "iopub.status.busy": "2023-08-13T21:31:20.300306Z",
     "iopub.status.idle": "2023-08-13T21:31:20.317962Z",
     "shell.execute_reply": "2023-08-13T21:31:20.315388Z"
    },
    "papermill": {
     "duration": 0.027503,
     "end_time": "2023-08-13T21:31:20.320867",
     "exception": false,
     "start_time": "2023-08-13T21:31:20.293364",
     "status": "completed"
    },
    "tags": []
   },
   "outputs": [],
   "source": [
    "X_train = train_detail[['Store','Dept','IsHoliday','Size','Week','Type','Year']]\n",
    "Y_train = train_detail['Weekly_Sales']"
   ]
  },
  {
   "cell_type": "code",
   "execution_count": 16,
   "id": "2fff4848",
   "metadata": {
    "execution": {
     "iopub.execute_input": "2023-08-13T21:31:20.332830Z",
     "iopub.status.busy": "2023-08-13T21:31:20.332461Z",
     "iopub.status.idle": "2023-08-13T21:32:07.782139Z",
     "shell.execute_reply": "2023-08-13T21:32:07.781055Z"
    },
    "papermill": {
     "duration": 47.464259,
     "end_time": "2023-08-13T21:32:07.790381",
     "exception": false,
     "start_time": "2023-08-13T21:31:20.326122",
     "status": "completed"
    },
    "tags": []
   },
   "outputs": [
    {
     "data": {
      "text/html": [
       "<style>#sk-container-id-1 {color: black;background-color: white;}#sk-container-id-1 pre{padding: 0;}#sk-container-id-1 div.sk-toggleable {background-color: white;}#sk-container-id-1 label.sk-toggleable__label {cursor: pointer;display: block;width: 100%;margin-bottom: 0;padding: 0.3em;box-sizing: border-box;text-align: center;}#sk-container-id-1 label.sk-toggleable__label-arrow:before {content: \"▸\";float: left;margin-right: 0.25em;color: #696969;}#sk-container-id-1 label.sk-toggleable__label-arrow:hover:before {color: black;}#sk-container-id-1 div.sk-estimator:hover label.sk-toggleable__label-arrow:before {color: black;}#sk-container-id-1 div.sk-toggleable__content {max-height: 0;max-width: 0;overflow: hidden;text-align: left;background-color: #f0f8ff;}#sk-container-id-1 div.sk-toggleable__content pre {margin: 0.2em;color: black;border-radius: 0.25em;background-color: #f0f8ff;}#sk-container-id-1 input.sk-toggleable__control:checked~div.sk-toggleable__content {max-height: 200px;max-width: 100%;overflow: auto;}#sk-container-id-1 input.sk-toggleable__control:checked~label.sk-toggleable__label-arrow:before {content: \"▾\";}#sk-container-id-1 div.sk-estimator input.sk-toggleable__control:checked~label.sk-toggleable__label {background-color: #d4ebff;}#sk-container-id-1 div.sk-label input.sk-toggleable__control:checked~label.sk-toggleable__label {background-color: #d4ebff;}#sk-container-id-1 input.sk-hidden--visually {border: 0;clip: rect(1px 1px 1px 1px);clip: rect(1px, 1px, 1px, 1px);height: 1px;margin: -1px;overflow: hidden;padding: 0;position: absolute;width: 1px;}#sk-container-id-1 div.sk-estimator {font-family: monospace;background-color: #f0f8ff;border: 1px dotted black;border-radius: 0.25em;box-sizing: border-box;margin-bottom: 0.5em;}#sk-container-id-1 div.sk-estimator:hover {background-color: #d4ebff;}#sk-container-id-1 div.sk-parallel-item::after {content: \"\";width: 100%;border-bottom: 1px solid gray;flex-grow: 1;}#sk-container-id-1 div.sk-label:hover label.sk-toggleable__label {background-color: #d4ebff;}#sk-container-id-1 div.sk-serial::before {content: \"\";position: absolute;border-left: 1px solid gray;box-sizing: border-box;top: 0;bottom: 0;left: 50%;z-index: 0;}#sk-container-id-1 div.sk-serial {display: flex;flex-direction: column;align-items: center;background-color: white;padding-right: 0.2em;padding-left: 0.2em;position: relative;}#sk-container-id-1 div.sk-item {position: relative;z-index: 1;}#sk-container-id-1 div.sk-parallel {display: flex;align-items: stretch;justify-content: center;background-color: white;position: relative;}#sk-container-id-1 div.sk-item::before, #sk-container-id-1 div.sk-parallel-item::before {content: \"\";position: absolute;border-left: 1px solid gray;box-sizing: border-box;top: 0;bottom: 0;left: 50%;z-index: -1;}#sk-container-id-1 div.sk-parallel-item {display: flex;flex-direction: column;z-index: 1;position: relative;background-color: white;}#sk-container-id-1 div.sk-parallel-item:first-child::after {align-self: flex-end;width: 50%;}#sk-container-id-1 div.sk-parallel-item:last-child::after {align-self: flex-start;width: 50%;}#sk-container-id-1 div.sk-parallel-item:only-child::after {width: 0;}#sk-container-id-1 div.sk-dashed-wrapped {border: 1px dashed gray;margin: 0 0.4em 0.5em 0.4em;box-sizing: border-box;padding-bottom: 0.4em;background-color: white;}#sk-container-id-1 div.sk-label label {font-family: monospace;font-weight: bold;display: inline-block;line-height: 1.2em;}#sk-container-id-1 div.sk-label-container {text-align: center;}#sk-container-id-1 div.sk-container {/* jupyter's `normalize.less` sets `[hidden] { display: none; }` but bootstrap.min.css set `[hidden] { display: none !important; }` so we also need the `!important` here to be able to override the default hidden behavior on the sphinx rendered scikit-learn.org. See: https://github.com/scikit-learn/scikit-learn/issues/21755 */display: inline-block !important;position: relative;}#sk-container-id-1 div.sk-text-repr-fallback {display: none;}</style><div id=\"sk-container-id-1\" class=\"sk-top-container\"><div class=\"sk-text-repr-fallback\"><pre>RandomForestRegressor(max_depth=27, max_features=6, min_samples_split=3,\n",
       "                      n_estimators=58, random_state=42)</pre><b>In a Jupyter environment, please rerun this cell to show the HTML representation or trust the notebook. <br />On GitHub, the HTML representation is unable to render, please try loading this page with nbviewer.org.</b></div><div class=\"sk-container\" hidden><div class=\"sk-item\"><div class=\"sk-estimator sk-toggleable\"><input class=\"sk-toggleable__control sk-hidden--visually\" id=\"sk-estimator-id-1\" type=\"checkbox\" checked><label for=\"sk-estimator-id-1\" class=\"sk-toggleable__label sk-toggleable__label-arrow\">RandomForestRegressor</label><div class=\"sk-toggleable__content\"><pre>RandomForestRegressor(max_depth=27, max_features=6, min_samples_split=3,\n",
       "                      n_estimators=58, random_state=42)</pre></div></div></div></div></div>"
      ],
      "text/plain": [
       "RandomForestRegressor(max_depth=27, max_features=6, min_samples_split=3,\n",
       "                      n_estimators=58, random_state=42)"
      ]
     },
     "execution_count": 16,
     "metadata": {},
     "output_type": "execute_result"
    }
   ],
   "source": [
    "RF = RandomForestRegressor(n_estimators=58, max_depth=27, max_features=6, min_samples_split=3, \n",
    "                           min_samples_leaf=1, random_state=42)\n",
    "RF.fit(X_train, Y_train)"
   ]
  },
  {
   "cell_type": "code",
   "execution_count": 17,
   "id": "d2fb61d4",
   "metadata": {
    "execution": {
     "iopub.execute_input": "2023-08-13T21:32:07.804249Z",
     "iopub.status.busy": "2023-08-13T21:32:07.803843Z",
     "iopub.status.idle": "2023-08-13T21:32:07.812945Z",
     "shell.execute_reply": "2023-08-13T21:32:07.811746Z"
    },
    "papermill": {
     "duration": 0.020075,
     "end_time": "2023-08-13T21:32:07.815858",
     "exception": false,
     "start_time": "2023-08-13T21:32:07.795783",
     "status": "completed"
    },
    "tags": []
   },
   "outputs": [],
   "source": [
    "X_test = test_detail[['Store', 'Dept', 'IsHoliday', 'Size', 'Week', 'Type', 'Year']]"
   ]
  },
  {
   "cell_type": "code",
   "execution_count": 18,
   "id": "3d92256a",
   "metadata": {
    "execution": {
     "iopub.execute_input": "2023-08-13T21:32:07.829709Z",
     "iopub.status.busy": "2023-08-13T21:32:07.829343Z",
     "iopub.status.idle": "2023-08-13T21:32:07.847772Z",
     "shell.execute_reply": "2023-08-13T21:32:07.846348Z"
    },
    "papermill": {
     "duration": 0.028224,
     "end_time": "2023-08-13T21:32:07.850000",
     "exception": false,
     "start_time": "2023-08-13T21:32:07.821776",
     "status": "completed"
    },
    "tags": []
   },
   "outputs": [
    {
     "data": {
      "text/html": [
       "<div>\n",
       "<style scoped>\n",
       "    .dataframe tbody tr th:only-of-type {\n",
       "        vertical-align: middle;\n",
       "    }\n",
       "\n",
       "    .dataframe tbody tr th {\n",
       "        vertical-align: top;\n",
       "    }\n",
       "\n",
       "    .dataframe thead th {\n",
       "        text-align: right;\n",
       "    }\n",
       "</style>\n",
       "<table border=\"1\" class=\"dataframe\">\n",
       "  <thead>\n",
       "    <tr style=\"text-align: right;\">\n",
       "      <th></th>\n",
       "      <th>Store</th>\n",
       "      <th>Dept</th>\n",
       "      <th>IsHoliday</th>\n",
       "      <th>Size</th>\n",
       "      <th>Week</th>\n",
       "      <th>Type</th>\n",
       "      <th>Year</th>\n",
       "    </tr>\n",
       "  </thead>\n",
       "  <tbody>\n",
       "    <tr>\n",
       "      <th>0</th>\n",
       "      <td>1</td>\n",
       "      <td>1</td>\n",
       "      <td>False</td>\n",
       "      <td>151315</td>\n",
       "      <td>44</td>\n",
       "      <td>3</td>\n",
       "      <td>2012</td>\n",
       "    </tr>\n",
       "    <tr>\n",
       "      <th>1</th>\n",
       "      <td>1</td>\n",
       "      <td>1</td>\n",
       "      <td>False</td>\n",
       "      <td>151315</td>\n",
       "      <td>45</td>\n",
       "      <td>3</td>\n",
       "      <td>2012</td>\n",
       "    </tr>\n",
       "    <tr>\n",
       "      <th>2</th>\n",
       "      <td>1</td>\n",
       "      <td>1</td>\n",
       "      <td>False</td>\n",
       "      <td>151315</td>\n",
       "      <td>46</td>\n",
       "      <td>3</td>\n",
       "      <td>2012</td>\n",
       "    </tr>\n",
       "    <tr>\n",
       "      <th>3</th>\n",
       "      <td>1</td>\n",
       "      <td>1</td>\n",
       "      <td>True</td>\n",
       "      <td>151315</td>\n",
       "      <td>47</td>\n",
       "      <td>3</td>\n",
       "      <td>2012</td>\n",
       "    </tr>\n",
       "    <tr>\n",
       "      <th>4</th>\n",
       "      <td>1</td>\n",
       "      <td>1</td>\n",
       "      <td>False</td>\n",
       "      <td>151315</td>\n",
       "      <td>48</td>\n",
       "      <td>3</td>\n",
       "      <td>2012</td>\n",
       "    </tr>\n",
       "    <tr>\n",
       "      <th>...</th>\n",
       "      <td>...</td>\n",
       "      <td>...</td>\n",
       "      <td>...</td>\n",
       "      <td>...</td>\n",
       "      <td>...</td>\n",
       "      <td>...</td>\n",
       "      <td>...</td>\n",
       "    </tr>\n",
       "    <tr>\n",
       "      <th>115059</th>\n",
       "      <td>45</td>\n",
       "      <td>98</td>\n",
       "      <td>False</td>\n",
       "      <td>118221</td>\n",
       "      <td>26</td>\n",
       "      <td>2</td>\n",
       "      <td>2013</td>\n",
       "    </tr>\n",
       "    <tr>\n",
       "      <th>115060</th>\n",
       "      <td>45</td>\n",
       "      <td>98</td>\n",
       "      <td>False</td>\n",
       "      <td>118221</td>\n",
       "      <td>27</td>\n",
       "      <td>2</td>\n",
       "      <td>2013</td>\n",
       "    </tr>\n",
       "    <tr>\n",
       "      <th>115061</th>\n",
       "      <td>45</td>\n",
       "      <td>98</td>\n",
       "      <td>False</td>\n",
       "      <td>118221</td>\n",
       "      <td>28</td>\n",
       "      <td>2</td>\n",
       "      <td>2013</td>\n",
       "    </tr>\n",
       "    <tr>\n",
       "      <th>115062</th>\n",
       "      <td>45</td>\n",
       "      <td>98</td>\n",
       "      <td>False</td>\n",
       "      <td>118221</td>\n",
       "      <td>29</td>\n",
       "      <td>2</td>\n",
       "      <td>2013</td>\n",
       "    </tr>\n",
       "    <tr>\n",
       "      <th>115063</th>\n",
       "      <td>45</td>\n",
       "      <td>98</td>\n",
       "      <td>False</td>\n",
       "      <td>118221</td>\n",
       "      <td>30</td>\n",
       "      <td>2</td>\n",
       "      <td>2013</td>\n",
       "    </tr>\n",
       "  </tbody>\n",
       "</table>\n",
       "<p>115064 rows × 7 columns</p>\n",
       "</div>"
      ],
      "text/plain": [
       "        Store  Dept  IsHoliday    Size  Week  Type  Year\n",
       "0           1     1      False  151315    44     3  2012\n",
       "1           1     1      False  151315    45     3  2012\n",
       "2           1     1      False  151315    46     3  2012\n",
       "3           1     1       True  151315    47     3  2012\n",
       "4           1     1      False  151315    48     3  2012\n",
       "...       ...   ...        ...     ...   ...   ...   ...\n",
       "115059     45    98      False  118221    26     2  2013\n",
       "115060     45    98      False  118221    27     2  2013\n",
       "115061     45    98      False  118221    28     2  2013\n",
       "115062     45    98      False  118221    29     2  2013\n",
       "115063     45    98      False  118221    30     2  2013\n",
       "\n",
       "[115064 rows x 7 columns]"
      ]
     },
     "execution_count": 18,
     "metadata": {},
     "output_type": "execute_result"
    }
   ],
   "source": [
    "X_test"
   ]
  },
  {
   "cell_type": "code",
   "execution_count": 19,
   "id": "1cd4418a",
   "metadata": {
    "execution": {
     "iopub.execute_input": "2023-08-13T21:32:07.862233Z",
     "iopub.status.busy": "2023-08-13T21:32:07.861825Z",
     "iopub.status.idle": "2023-08-13T21:32:08.949250Z",
     "shell.execute_reply": "2023-08-13T21:32:08.947692Z"
    },
    "papermill": {
     "duration": 1.09659,
     "end_time": "2023-08-13T21:32:08.951957",
     "exception": false,
     "start_time": "2023-08-13T21:32:07.855367",
     "status": "completed"
    },
    "tags": []
   },
   "outputs": [
    {
     "data": {
      "text/plain": [
       "['random_forest_model.pkl']"
      ]
     },
     "execution_count": 19,
     "metadata": {},
     "output_type": "execute_result"
    }
   ],
   "source": [
    "joblib.dump(RF, 'random_forest_model.pkl')"
   ]
  },
  {
   "cell_type": "code",
   "execution_count": 20,
   "id": "3fc08150",
   "metadata": {
    "execution": {
     "iopub.execute_input": "2023-08-13T21:32:08.966422Z",
     "iopub.status.busy": "2023-08-13T21:32:08.966063Z",
     "iopub.status.idle": "2023-08-13T21:32:10.505436Z",
     "shell.execute_reply": "2023-08-13T21:32:10.504301Z"
    },
    "papermill": {
     "duration": 1.549623,
     "end_time": "2023-08-13T21:32:10.507581",
     "exception": false,
     "start_time": "2023-08-13T21:32:08.957958",
     "status": "completed"
    },
    "tags": []
   },
   "outputs": [],
   "source": [
    "Model = joblib.load('/kaggle/working/random_forest_model.pkl')"
   ]
  },
  {
   "cell_type": "code",
   "execution_count": 21,
   "id": "9e5cbc93",
   "metadata": {
    "execution": {
     "iopub.execute_input": "2023-08-13T21:32:10.521419Z",
     "iopub.status.busy": "2023-08-13T21:32:10.520555Z",
     "iopub.status.idle": "2023-08-13T21:32:10.528542Z",
     "shell.execute_reply": "2023-08-13T21:32:10.527448Z"
    },
    "papermill": {
     "duration": 0.017384,
     "end_time": "2023-08-13T21:32:10.530900",
     "exception": false,
     "start_time": "2023-08-13T21:32:10.513516",
     "status": "completed"
    },
    "tags": []
   },
   "outputs": [
    {
     "data": {
      "text/plain": [
       "array([[1, 1, False, 151315, 44, 3, 2012]], dtype=object)"
      ]
     },
     "execution_count": 21,
     "metadata": {},
     "output_type": "execute_result"
    }
   ],
   "source": [
    "X_test_single = np.array([X_test.iloc[0]])\n",
    "X_test_single"
   ]
  },
  {
   "cell_type": "code",
   "execution_count": 22,
   "id": "deb304ab",
   "metadata": {
    "execution": {
     "iopub.execute_input": "2023-08-13T21:32:10.544831Z",
     "iopub.status.busy": "2023-08-13T21:32:10.544450Z",
     "iopub.status.idle": "2023-08-13T21:32:10.559509Z",
     "shell.execute_reply": "2023-08-13T21:32:10.557926Z"
    },
    "papermill": {
     "duration": 0.02502,
     "end_time": "2023-08-13T21:32:10.561914",
     "exception": false,
     "start_time": "2023-08-13T21:32:10.536894",
     "status": "completed"
    },
    "tags": []
   },
   "outputs": [
    {
     "data": {
      "text/plain": [
       "array([31797.46546552])"
      ]
     },
     "execution_count": 22,
     "metadata": {},
     "output_type": "execute_result"
    }
   ],
   "source": [
    "prediction = Model.predict(X_test_single)\n",
    "prediction"
   ]
  },
  {
   "cell_type": "code",
   "execution_count": null,
   "id": "e0610566",
   "metadata": {
    "papermill": {
     "duration": 0.005595,
     "end_time": "2023-08-13T21:32:10.573560",
     "exception": false,
     "start_time": "2023-08-13T21:32:10.567965",
     "status": "completed"
    },
    "tags": []
   },
   "outputs": [],
   "source": []
  }
 ],
 "metadata": {
  "kernelspec": {
   "display_name": "Python 3",
   "language": "python",
   "name": "python3"
  },
  "language_info": {
   "codemirror_mode": {
    "name": "ipython",
    "version": 3
   },
   "file_extension": ".py",
   "mimetype": "text/x-python",
   "name": "python",
   "nbconvert_exporter": "python",
   "pygments_lexer": "ipython3",
   "version": "3.10.12"
  },
  "papermill": {
   "default_parameters": {},
   "duration": 64.657547,
   "end_time": "2023-08-13T21:32:11.905453",
   "environment_variables": {},
   "exception": null,
   "input_path": "__notebook__.ipynb",
   "output_path": "__notebook__.ipynb",
   "parameters": {},
   "start_time": "2023-08-13T21:31:07.247906",
   "version": "2.4.0"
  }
 },
 "nbformat": 4,
 "nbformat_minor": 5
}
